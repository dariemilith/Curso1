{
  "nbformat": 4,
  "nbformat_minor": 0,
  "metadata": {
    "colab": {
      "provenance": [],
      "authorship_tag": "ABX9TyPArv4PrbUcDbrqSPdoJFPb",
      "include_colab_link": true
    },
    "kernelspec": {
      "name": "python3",
      "display_name": "Python 3"
    },
    "language_info": {
      "name": "python"
    }
  },
  "cells": [
    {
      "cell_type": "markdown",
      "metadata": {
        "id": "view-in-github",
        "colab_type": "text"
      },
      "source": [
        "<a href=\"https://colab.research.google.com/github/dariemilith/DS_Intro_Estadistica_Curso/blob/main/docs/Estad%C3%ADstica_descriptiva.ipynb\" target=\"_parent\"><img src=\"https://colab.research.google.com/assets/colab-badge.svg\" alt=\"Open In Colab\"/></a>"
      ]
    },
    {
      "cell_type": "markdown",
      "source": [
        "\n",
        "# Estadística Descriptiva\n",
        "\n",
        "La estadística descriptiva se refiere al análisis para describir los datos de manera fácil y clara. Este análisis se representa a través de números y gráficos que proprocionan información sobre la distribución de los datos. La estadística descriptiva nos ayuda a obtener una visión clara y rápida de cómo se distribuyen nuestros datos.\n",
        "\n",
        "\n",
        "\n",
        "## Medidas de Tendencia Central\n",
        "\n",
        "Las medidas de tendencia central son herramientas estadísticas que nos permiten resumir y representar la distribución de datos mediante un valor central. Estas medidas nos ayudan a entender dónde se concentran la mayoría de los datos. Las tres medidas principales de tendencia central son la media, la mediana y la moda.\n",
        "\n",
        "\n",
        "**Media:**\n",
        "\n",
        "La media es el promedio aritmético de un conjunto de datos. Se calcula sumando todos los valores y dividiendo la suma por la cantidad de elementos en el conjunto.\n",
        "\n",
        "$$\\bar{X} = \\frac{\\displaystyle\\sum_{i=1}^{n}{X_i}}{n}$$\n",
        "\n",
        "\n",
        "**Mediana:**\n",
        "\n",
        "La mediana es el valor que ocupa la posición central en un conjunto de datos ordenado. Si el conjunto tiene un número par de elementos, se calcula promediando los dos valores centrales.\n",
        "\n",
        "**Moda:**\n",
        "\n",
        "La moda es el valor que aparece con mayor frecuencia en un conjunto de datos, es decir, identifica el elemento más común. No todos los conjuntos de datos tienen una moda, puede haber casos en los que todos los valores sean únicos. Por otro lado, algunos conjuntos de datos pueden contener más de una moda, lo que se considera como bimodal o multimodal.\n"
      ],
      "metadata": {
        "id": "WRdQkZA9C_-u"
      }
    },
    {
      "cell_type": "markdown",
      "source": [
        "A continuación veremos ejemplos para poder calcular estas medidas de tendencia central, utilizando funciones de la librería pandas."
      ],
      "metadata": {
        "id": "3fld9GRo1I1P"
      }
    },
    {
      "cell_type": "code",
      "source": [
        "#Creación del dataframe\n",
        "import pandas as pd\n",
        "\n",
        "# Creación de listas con los datos para las variables edades y genero\n",
        "lista_edades = [28, 35, 42, 31, 50, 26, 38, 45, 29, 34, 40, 48, 33, 30, 36, 41, 27, 39, 43, 32]\n",
        "lista_genero = ['M', 'M', 'F', 'F', 'F', 'M', 'F', 'M', 'M', 'M', 'F', 'M', 'F', 'F', 'M', 'F', 'M', 'M', 'F', 'F']\n",
        "\n",
        "# Crear un diccionario con las listas\n",
        "data = {\n",
        "    'edades': lista_edades,\n",
        "    'genero': lista_genero\n",
        "}\n",
        "\n",
        "# Crear el DataFrame\n",
        "df = pd.DataFrame(data)\n",
        "\n",
        "\n",
        "# Media\n",
        "# Podemos calcularla de forma manual como la suma de los datos dividida en la cantidad total de datos.\n",
        "media = sum(df.edades) / len(df)\n",
        "print('Promedio:', media)\n",
        "\n",
        "# La función mean() que trae la librería pandas, nos sirve paraa calcular el promedio\n",
        "print('Promedio:', df.edades.mean())"
      ],
      "metadata": {
        "colab": {
          "base_uri": "https://localhost:8080/"
        },
        "id": "G1JgTEgNh1Na",
        "outputId": "8af11d12-06f1-4608-c546-360e461288ea"
      },
      "execution_count": 2,
      "outputs": [
        {
          "output_type": "stream",
          "name": "stdout",
          "text": [
            "Promedio: 36.35\n",
            "Promedio: 36.35\n"
          ]
        }
      ]
    },
    {
      "cell_type": "markdown",
      "source": [
        "La interpretación que le damos a la variable edades de los empleados es que, en promedio los empleados tienen 36 años aproximadamente."
      ],
      "metadata": {
        "id": "ged9hpIWjev0"
      }
    },
    {
      "cell_type": "code",
      "source": [
        "# Mediana: La función median() que trae la librería pandas, nos sirve paraa calcular la mediana\n",
        "print('Mediana:', df.edades.median())"
      ],
      "metadata": {
        "colab": {
          "base_uri": "https://localhost:8080/"
        },
        "id": "YxQbiwgVi5Qp",
        "outputId": "ff58d69c-9b4b-4ec2-cc72-31f1eb41a7c5"
      },
      "execution_count": 3,
      "outputs": [
        {
          "output_type": "stream",
          "name": "stdout",
          "text": [
            "Mediana: 35.5\n"
          ]
        }
      ]
    },
    {
      "cell_type": "markdown",
      "source": [
        "La mediana nos dice que, el dato medio de las edades de los empleados es 35.5 años."
      ],
      "metadata": {
        "id": "Mwv1CyL4jplY"
      }
    },
    {
      "cell_type": "code",
      "source": [
        "# Moda: La función mode() que trae la librería pandas, nos sirve paraa calcular la moda\n",
        "\n",
        "moda = df.edades.mode()\n",
        "print('Moda:', moda[0])"
      ],
      "metadata": {
        "colab": {
          "base_uri": "https://localhost:8080/"
        },
        "id": "FaHgCq5xj0Ug",
        "outputId": "f77d9ed4-6b29-42ea-e1f5-1207772b6891"
      },
      "execution_count": 4,
      "outputs": [
        {
          "output_type": "stream",
          "name": "stdout",
          "text": [
            "Moda: 26\n"
          ]
        }
      ]
    },
    {
      "cell_type": "markdown",
      "source": [
        "## Medidas de Dispersión\n",
        "\n",
        "Las medidas de dispersión son herramientas estadísticas que nos proporcionan información sobre la variabilidad o distribución de un conjunto de datos. Estas nos ayudan a saber que tan agrupados o dispersos están los datos respecto a la media. Las medidas de dispersión principales son el rango, la varianza y la desviación estandar.\n",
        "\n",
        "\n",
        "**Rango:**\n",
        "\n",
        "El rango es la diferencia entre el valor máximo y el valor mínimo en un conjunto de datos. Esta medida nos ayuda a conocer que tan dispersos tenemos los datos. Un rango amplio indica mayor variabilidad entre los valores, mientras que un rango más acotado indica que los valores están más cercanos entre sí.\n",
        "\n",
        "**Varianza:**\n",
        "\n",
        "La varianza mide la dispersión promedio de los datos respecto a la media. La fórmula de la varianza muestral es:\n",
        "$$S^2 =  \\frac{\\displaystyle\\sum_{i=1}^{n}{(X_i-\\bar{X})^2}}{n-1} $$\n",
        "\n",
        "**Desviación Estandar:**\n",
        "\n",
        "La desviación estándar es la raiz cuadrada de la varianza y nos proporciona una medida de dispersión en la misma unidad que los datos orginales.\n",
        "\n",
        "$$S = \\sqrt{S^2}$$\n",
        "\n",
        "Continuemos con el dataframe de empleados de la empresa A, y analicemos que tan dispersos tenemos los datos de la edad."
      ],
      "metadata": {
        "id": "60C9c-K7DAoG"
      }
    },
    {
      "cell_type": "code",
      "source": [
        "# Rango:\n",
        "rango_edades = df.edades.max() - df.edades.min()\n",
        "print('Rango de variable edad:', rango_edades)\n",
        "\n",
        "# Varianza: La función var() de la librería pandas, calcula la varianza de la variable\n",
        "print('Varianza variable edad:', df.edades.var())\n",
        "\n",
        "# Desviación Estandar: La función std(), calcula la desviación estandar\n",
        "print('Desviación variable edad:', df.edades.std())"
      ],
      "metadata": {
        "id": "n9WMWVDnDA9u",
        "colab": {
          "base_uri": "https://localhost:8080/"
        },
        "outputId": "80ec1585-5800-40a0-fb41-08a35a857eb9"
      },
      "execution_count": 5,
      "outputs": [
        {
          "output_type": "stream",
          "name": "stdout",
          "text": [
            "Rango de variable edad: 24\n",
            "Varianza variable edad: 49.607894736842105\n",
            "Desviación variable edad: 7.04328721101462\n"
          ]
        }
      ]
    },
    {
      "cell_type": "markdown",
      "source": [
        "Con estas medidas de dispersión, podemos saber que tan variable es la edad de los empleados en la empresa A.\n",
        "\n",
        "* La edad varía en un rango de 24 años\n",
        "* La varianza es 49.6, pero este valor se puede interpretar mejor con la desviación estandar.\n",
        "* Una desviación estandar de 7.04, nos indica que los valores de la edad difieren alrededor de 7 años de la media."
      ],
      "metadata": {
        "id": "X9wTUpzODHfu"
      }
    },
    {
      "cell_type": "markdown",
      "source": [
        "## Medidas de Asociación\n",
        "\n",
        "Las medidas de asociación proporcionan información sobre cómo las variables están relacionadas entre sí.\n",
        "\n",
        "**Covarianza**\n",
        "\n",
        "Esta medida indica la variabilidad conjunta de las variables y la dirección de la relación (positiva o negativa). Sin embargo, la covarianza no está normalizada, lo que significa que su magnitud no es fácilmente interpretable en términos de la fuerza de la relación. Esto se debe a que la covarianza no tiene una escala definida y puede ser difícil de comparar entre diferentes conjuntos de datos.\n",
        "\n",
        "* Si la covarianza es positiva, significa que las dos variables tienden a aumentar o disminuir juntas.\n",
        "* Si es negativa, significa que una variable tiende a aumentar cuando la otra disminuye.\n",
        "\n",
        "$$cov(X,Y) = \\frac{\\displaystyle\\sum_{i=1}^{n}{(X_i-\\bar{X})^2} (Y_i - \\bar{Y})}{n-1}$$\n",
        "\n",
        "\n",
        "**Coeficiente de Correlación**\n",
        "\n",
        "La correlación es una medida estadística que describe la relación entre dos variables continuas. Nos indica si existe una asociación entre ellas, que tan fuertemente están relacionadas, y la dirección de esa asociación (positiva o negativa). El coeficiente de correlación más comúnmente utilizado es el coeficiente de correlación de Person, denotado como 'r'. Este coeficiente varía entre -1 y 1.\n",
        "\n",
        "* r = 1: indica una correlación positiva perfecta, cuando una variable aumenta, la otra también aumenta en proporción constante.\n",
        "* r = -1: indica una correlación negativa perfecta, cuando una variable aumenta, la otra disminuye en proporción constante.\n",
        "* r = 0: indica que no hay correlación lineal entre las dos variables.\n",
        "\n",
        "La fórmula para el coeficiente de correlación de Pearson es:\n",
        "$$r = \\frac{cov(X,Y)}{\\sigma_X \\sigma_Y}$$\n",
        "\n",
        "donde:\n",
        " * $cov(X,Y)$ es la covarianza entre las variables.\n",
        " * $\\sigma_X, \\sigma_Y$ es la desviación estándar de X e Y, respectivamente.\n",
        "\n",
        "Es importante tener en cuenta que la correlación no implica causalidad; es decir, solo porque dos variables estén correlacionadas no significa que una cause la otra.\n",
        "\n",
        "\n",
        "\n",
        "<br>\n",
        "<br>\n",
        "\n",
        "Crearemos otra variable numérica para ingresar al dataframe, y poder calcular la correlación entre estas dos variables numéricas. Esta variable será la altura de los empleados.\n",
        "\n",
        "Veremos qué tan relacionadas están las variables edad y altura de los empleados.\n",
        "\n"
      ],
      "metadata": {
        "id": "dFd6iSefNZd8"
      }
    },
    {
      "cell_type": "code",
      "source": [
        "# Incorporamos nueva variable al dataframe\n",
        "df['altura'] = [160, 175, 160, 165, 170, 155, 168, 180, 162, 170, 175, 185, 168, 163, 172, 178, 158, 170, 167, 162]\n",
        "\n",
        "# Correlación de Pearson: la funcion corr() nos ayuda a calcular la correlación de Pearson entre las variables\n",
        "df[['edades', 'altura']].corr(method = 'pearson')"
      ],
      "metadata": {
        "colab": {
          "base_uri": "https://localhost:8080/",
          "height": 112
        },
        "id": "3v7ESIv8TDE8",
        "outputId": "8d13ca18-7fe3-4a88-9b47-08a53222f8eb"
      },
      "execution_count": 6,
      "outputs": [
        {
          "output_type": "execute_result",
          "data": {
            "text/plain": [
              "          edades    altura\n",
              "edades  1.000000  0.718341\n",
              "altura  0.718341  1.000000"
            ],
            "text/html": [
              "\n",
              "  <div id=\"df-3a101c74-c9bc-4e2b-ae0c-6f5bbc41073d\" class=\"colab-df-container\">\n",
              "    <div>\n",
              "<style scoped>\n",
              "    .dataframe tbody tr th:only-of-type {\n",
              "        vertical-align: middle;\n",
              "    }\n",
              "\n",
              "    .dataframe tbody tr th {\n",
              "        vertical-align: top;\n",
              "    }\n",
              "\n",
              "    .dataframe thead th {\n",
              "        text-align: right;\n",
              "    }\n",
              "</style>\n",
              "<table border=\"1\" class=\"dataframe\">\n",
              "  <thead>\n",
              "    <tr style=\"text-align: right;\">\n",
              "      <th></th>\n",
              "      <th>edades</th>\n",
              "      <th>altura</th>\n",
              "    </tr>\n",
              "  </thead>\n",
              "  <tbody>\n",
              "    <tr>\n",
              "      <th>edades</th>\n",
              "      <td>1.000000</td>\n",
              "      <td>0.718341</td>\n",
              "    </tr>\n",
              "    <tr>\n",
              "      <th>altura</th>\n",
              "      <td>0.718341</td>\n",
              "      <td>1.000000</td>\n",
              "    </tr>\n",
              "  </tbody>\n",
              "</table>\n",
              "</div>\n",
              "    <div class=\"colab-df-buttons\">\n",
              "\n",
              "  <div class=\"colab-df-container\">\n",
              "    <button class=\"colab-df-convert\" onclick=\"convertToInteractive('df-3a101c74-c9bc-4e2b-ae0c-6f5bbc41073d')\"\n",
              "            title=\"Convert this dataframe to an interactive table.\"\n",
              "            style=\"display:none;\">\n",
              "\n",
              "  <svg xmlns=\"http://www.w3.org/2000/svg\" height=\"24px\" viewBox=\"0 -960 960 960\">\n",
              "    <path d=\"M120-120v-720h720v720H120Zm60-500h600v-160H180v160Zm220 220h160v-160H400v160Zm0 220h160v-160H400v160ZM180-400h160v-160H180v160Zm440 0h160v-160H620v160ZM180-180h160v-160H180v160Zm440 0h160v-160H620v160Z\"/>\n",
              "  </svg>\n",
              "    </button>\n",
              "\n",
              "  <style>\n",
              "    .colab-df-container {\n",
              "      display:flex;\n",
              "      gap: 12px;\n",
              "    }\n",
              "\n",
              "    .colab-df-convert {\n",
              "      background-color: #E8F0FE;\n",
              "      border: none;\n",
              "      border-radius: 50%;\n",
              "      cursor: pointer;\n",
              "      display: none;\n",
              "      fill: #1967D2;\n",
              "      height: 32px;\n",
              "      padding: 0 0 0 0;\n",
              "      width: 32px;\n",
              "    }\n",
              "\n",
              "    .colab-df-convert:hover {\n",
              "      background-color: #E2EBFA;\n",
              "      box-shadow: 0px 1px 2px rgba(60, 64, 67, 0.3), 0px 1px 3px 1px rgba(60, 64, 67, 0.15);\n",
              "      fill: #174EA6;\n",
              "    }\n",
              "\n",
              "    .colab-df-buttons div {\n",
              "      margin-bottom: 4px;\n",
              "    }\n",
              "\n",
              "    [theme=dark] .colab-df-convert {\n",
              "      background-color: #3B4455;\n",
              "      fill: #D2E3FC;\n",
              "    }\n",
              "\n",
              "    [theme=dark] .colab-df-convert:hover {\n",
              "      background-color: #434B5C;\n",
              "      box-shadow: 0px 1px 3px 1px rgba(0, 0, 0, 0.15);\n",
              "      filter: drop-shadow(0px 1px 2px rgba(0, 0, 0, 0.3));\n",
              "      fill: #FFFFFF;\n",
              "    }\n",
              "  </style>\n",
              "\n",
              "    <script>\n",
              "      const buttonEl =\n",
              "        document.querySelector('#df-3a101c74-c9bc-4e2b-ae0c-6f5bbc41073d button.colab-df-convert');\n",
              "      buttonEl.style.display =\n",
              "        google.colab.kernel.accessAllowed ? 'block' : 'none';\n",
              "\n",
              "      async function convertToInteractive(key) {\n",
              "        const element = document.querySelector('#df-3a101c74-c9bc-4e2b-ae0c-6f5bbc41073d');\n",
              "        const dataTable =\n",
              "          await google.colab.kernel.invokeFunction('convertToInteractive',\n",
              "                                                    [key], {});\n",
              "        if (!dataTable) return;\n",
              "\n",
              "        const docLinkHtml = 'Like what you see? Visit the ' +\n",
              "          '<a target=\"_blank\" href=https://colab.research.google.com/notebooks/data_table.ipynb>data table notebook</a>'\n",
              "          + ' to learn more about interactive tables.';\n",
              "        element.innerHTML = '';\n",
              "        dataTable['output_type'] = 'display_data';\n",
              "        await google.colab.output.renderOutput(dataTable, element);\n",
              "        const docLink = document.createElement('div');\n",
              "        docLink.innerHTML = docLinkHtml;\n",
              "        element.appendChild(docLink);\n",
              "      }\n",
              "    </script>\n",
              "  </div>\n",
              "\n",
              "\n",
              "<div id=\"df-f32a4a65-3213-4ae5-a7aa-fbfcb695dca1\">\n",
              "  <button class=\"colab-df-quickchart\" onclick=\"quickchart('df-f32a4a65-3213-4ae5-a7aa-fbfcb695dca1')\"\n",
              "            title=\"Suggest charts\"\n",
              "            style=\"display:none;\">\n",
              "\n",
              "<svg xmlns=\"http://www.w3.org/2000/svg\" height=\"24px\"viewBox=\"0 0 24 24\"\n",
              "     width=\"24px\">\n",
              "    <g>\n",
              "        <path d=\"M19 3H5c-1.1 0-2 .9-2 2v14c0 1.1.9 2 2 2h14c1.1 0 2-.9 2-2V5c0-1.1-.9-2-2-2zM9 17H7v-7h2v7zm4 0h-2V7h2v10zm4 0h-2v-4h2v4z\"/>\n",
              "    </g>\n",
              "</svg>\n",
              "  </button>\n",
              "\n",
              "<style>\n",
              "  .colab-df-quickchart {\n",
              "      --bg-color: #E8F0FE;\n",
              "      --fill-color: #1967D2;\n",
              "      --hover-bg-color: #E2EBFA;\n",
              "      --hover-fill-color: #174EA6;\n",
              "      --disabled-fill-color: #AAA;\n",
              "      --disabled-bg-color: #DDD;\n",
              "  }\n",
              "\n",
              "  [theme=dark] .colab-df-quickchart {\n",
              "      --bg-color: #3B4455;\n",
              "      --fill-color: #D2E3FC;\n",
              "      --hover-bg-color: #434B5C;\n",
              "      --hover-fill-color: #FFFFFF;\n",
              "      --disabled-bg-color: #3B4455;\n",
              "      --disabled-fill-color: #666;\n",
              "  }\n",
              "\n",
              "  .colab-df-quickchart {\n",
              "    background-color: var(--bg-color);\n",
              "    border: none;\n",
              "    border-radius: 50%;\n",
              "    cursor: pointer;\n",
              "    display: none;\n",
              "    fill: var(--fill-color);\n",
              "    height: 32px;\n",
              "    padding: 0;\n",
              "    width: 32px;\n",
              "  }\n",
              "\n",
              "  .colab-df-quickchart:hover {\n",
              "    background-color: var(--hover-bg-color);\n",
              "    box-shadow: 0 1px 2px rgba(60, 64, 67, 0.3), 0 1px 3px 1px rgba(60, 64, 67, 0.15);\n",
              "    fill: var(--button-hover-fill-color);\n",
              "  }\n",
              "\n",
              "  .colab-df-quickchart-complete:disabled,\n",
              "  .colab-df-quickchart-complete:disabled:hover {\n",
              "    background-color: var(--disabled-bg-color);\n",
              "    fill: var(--disabled-fill-color);\n",
              "    box-shadow: none;\n",
              "  }\n",
              "\n",
              "  .colab-df-spinner {\n",
              "    border: 2px solid var(--fill-color);\n",
              "    border-color: transparent;\n",
              "    border-bottom-color: var(--fill-color);\n",
              "    animation:\n",
              "      spin 1s steps(1) infinite;\n",
              "  }\n",
              "\n",
              "  @keyframes spin {\n",
              "    0% {\n",
              "      border-color: transparent;\n",
              "      border-bottom-color: var(--fill-color);\n",
              "      border-left-color: var(--fill-color);\n",
              "    }\n",
              "    20% {\n",
              "      border-color: transparent;\n",
              "      border-left-color: var(--fill-color);\n",
              "      border-top-color: var(--fill-color);\n",
              "    }\n",
              "    30% {\n",
              "      border-color: transparent;\n",
              "      border-left-color: var(--fill-color);\n",
              "      border-top-color: var(--fill-color);\n",
              "      border-right-color: var(--fill-color);\n",
              "    }\n",
              "    40% {\n",
              "      border-color: transparent;\n",
              "      border-right-color: var(--fill-color);\n",
              "      border-top-color: var(--fill-color);\n",
              "    }\n",
              "    60% {\n",
              "      border-color: transparent;\n",
              "      border-right-color: var(--fill-color);\n",
              "    }\n",
              "    80% {\n",
              "      border-color: transparent;\n",
              "      border-right-color: var(--fill-color);\n",
              "      border-bottom-color: var(--fill-color);\n",
              "    }\n",
              "    90% {\n",
              "      border-color: transparent;\n",
              "      border-bottom-color: var(--fill-color);\n",
              "    }\n",
              "  }\n",
              "</style>\n",
              "\n",
              "  <script>\n",
              "    async function quickchart(key) {\n",
              "      const quickchartButtonEl =\n",
              "        document.querySelector('#' + key + ' button');\n",
              "      quickchartButtonEl.disabled = true;  // To prevent multiple clicks.\n",
              "      quickchartButtonEl.classList.add('colab-df-spinner');\n",
              "      try {\n",
              "        const charts = await google.colab.kernel.invokeFunction(\n",
              "            'suggestCharts', [key], {});\n",
              "      } catch (error) {\n",
              "        console.error('Error during call to suggestCharts:', error);\n",
              "      }\n",
              "      quickchartButtonEl.classList.remove('colab-df-spinner');\n",
              "      quickchartButtonEl.classList.add('colab-df-quickchart-complete');\n",
              "    }\n",
              "    (() => {\n",
              "      let quickchartButtonEl =\n",
              "        document.querySelector('#df-f32a4a65-3213-4ae5-a7aa-fbfcb695dca1 button');\n",
              "      quickchartButtonEl.style.display =\n",
              "        google.colab.kernel.accessAllowed ? 'block' : 'none';\n",
              "    })();\n",
              "  </script>\n",
              "</div>\n",
              "\n",
              "    </div>\n",
              "  </div>\n"
            ]
          },
          "metadata": {},
          "execution_count": 6
        }
      ]
    },
    {
      "cell_type": "markdown",
      "source": [
        "La correlación entre edades y altura es de 0.72 aprox. Este valor es cercano a uno, por lo que, podemos decir que existe una fuerte relación entre la edad y la altura de los empleados. Además, al ser un valor positivo, indica que esta relación también es positiva, es decir, cuando una variable aumenta, la otra también tiende a hacerlo."
      ],
      "metadata": {
        "id": "trP4e_UlgZnQ"
      }
    },
    {
      "cell_type": "markdown",
      "source": [
        "## Interpretación de Gráficos Estadísticos\n",
        "\n",
        "Los gráficos estadísticos nos otorgan una representación visual de los datos.\n",
        "En esta lección, exploraremos distintos tipos de gráficos como el Boxplot, Histograma y Diagrama de Dispersión, los cuales nos facilitarán visualizar la distribución de los datos.\n",
        "\n",
        "En el ámbito de la Ciencia de Datos, estos gráficos son fundamentales en el Análisis Exploratorio de Datos (EDA), ya que resulta fundamental comprender la naturaleza de los datos antes de aplicar cualquier modelo estadístico o metodología de machine learning.\n",
        "\n",
        "\n",
        "**Boxplot (Diagrama de Caja y Bigotes):**\n",
        "\n",
        "Este tipo de gráfico, nos ayuda a visualizar la distribución de una variable, y destaca la presencia de valores atípicos. Este gráfico se construye a partir de cinco estadísticas resumidas: el valor mínimo, el primer cuartil (Q1), la mediana (o segundo cuartil, Q2), el tercer cuartil (Q3) y el valor máximo.\n",
        "Los componentes de este grafico son:\n",
        "\n",
        "* Caja (Box): Se extiende desde el primer hasta el tercel cuartil y contiene al 50% de los datos centrales.\n",
        "* Línea mediana: Representa la mediana de los datos.\n",
        "* Bigotes (Whiskers): Valores extremos de los datos, máximo y mínimo.\n",
        "* Outliers: Puntos que se consideran valores atípicos.\n",
        "\n",
        "\n",
        "Para llevar a cabo la visualización de los gráficos, utilizaremos las librerías Matplotlib y Seaborn en Python.\n"
      ],
      "metadata": {
        "id": "frLRclL7DG8H"
      }
    },
    {
      "cell_type": "code",
      "source": [
        "import matplotlib.pyplot as plt\n",
        "import seaborn as sns\n",
        "\n",
        "# Crear boxplot\n",
        "plt.figure(figsize=(3, 4))  # Ajustar el tamaño de la figura\n",
        "sns.boxplot(y=df['edades'])  # Especificar la columna de edades\n",
        "plt.title('Boxplot de la variable Edad')\n",
        "plt.show()"
      ],
      "metadata": {
        "colab": {
          "base_uri": "https://localhost:8080/",
          "height": 373
        },
        "id": "DZaRbUPdfLFY",
        "outputId": "a4753f43-2111-4c51-c1ed-f48e4e098c04"
      },
      "execution_count": 11,
      "outputs": [
        {
          "output_type": "display_data",
          "data": {
            "text/plain": [
              "<Figure size 300x400 with 1 Axes>"
            ],
            "image/png": "[encoded data removed]"
          },
          "metadata": {}
        }
      ]
    },
    {
      "cell_type": "code",
      "source": [
        "# Ejecutamos la función describe() de la librería pandas para poder visualizar los datos que se usan para el boxplot.\n",
        "df.describe()"
      ],
      "metadata": {
        "colab": {
          "base_uri": "https://localhost:8080/",
          "height": 300
        },
        "id": "AMrRZO1xshdY",
        "outputId": "035bb258-e519-4d31-ec83-9fe5fd08f4b3"
      },
      "execution_count": 8,
      "outputs": [
        {
          "output_type": "execute_result",
          "data": {
            "text/plain": [
              "          edades      altura\n",
              "count  20.000000   20.000000\n",
              "mean   36.350000  168.150000\n",
              "std     7.043287    7.822202\n",
              "min    26.000000  155.000000\n",
              "25%    30.750000  162.000000\n",
              "50%    35.500000  168.000000\n",
              "75%    41.250000  172.750000\n",
              "max    50.000000  185.000000"
            ],
            "text/html": [
              "\n",
              "  <div id=\"df-cd065d52-0c64-4843-916f-b684682e6638\" class=\"colab-df-container\">\n",
              "    <div>\n",
              "<style scoped>\n",
              "    .dataframe tbody tr th:only-of-type {\n",
              "        vertical-align: middle;\n",
              "    }\n",
              "\n",
              "    .dataframe tbody tr th {\n",
              "        vertical-align: top;\n",
              "    }\n",
              "\n",
              "    .dataframe thead th {\n",
              "        text-align: right;\n",
              "    }\n",
              "</style>\n",
              "<table border=\"1\" class=\"dataframe\">\n",
              "  <thead>\n",
              "    <tr style=\"text-align: right;\">\n",
              "      <th></th>\n",
              "      <th>edades</th>\n",
              "      <th>altura</th>\n",
              "    </tr>\n",
              "  </thead>\n",
              "  <tbody>\n",
              "    <tr>\n",
              "      <th>count</th>\n",
              "      <td>20.000000</td>\n",
              "      <td>20.000000</td>\n",
              "    </tr>\n",
              "    <tr>\n",
              "      <th>mean</th>\n",
              "      <td>36.350000</td>\n",
              "      <td>168.150000</td>\n",
              "    </tr>\n",
              "    <tr>\n",
              "      <th>std</th>\n",
              "      <td>7.043287</td>\n",
              "      <td>7.822202</td>\n",
              "    </tr>\n",
              "    <tr>\n",
              "      <th>min</th>\n",
              "      <td>26.000000</td>\n",
              "      <td>155.000000</td>\n",
              "    </tr>\n",
              "    <tr>\n",
              "      <th>25%</th>\n",
              "      <td>30.750000</td>\n",
              "      <td>162.000000</td>\n",
              "    </tr>\n",
              "    <tr>\n",
              "      <th>50%</th>\n",
              "      <td>35.500000</td>\n",
              "      <td>168.000000</td>\n",
              "    </tr>\n",
              "    <tr>\n",
              "      <th>75%</th>\n",
              "      <td>41.250000</td>\n",
              "      <td>172.750000</td>\n",
              "    </tr>\n",
              "    <tr>\n",
              "      <th>max</th>\n",
              "      <td>50.000000</td>\n",
              "      <td>185.000000</td>\n",
              "    </tr>\n",
              "  </tbody>\n",
              "</table>\n",
              "</div>\n",
              "    <div class=\"colab-df-buttons\">\n",
              "\n",
              "  <div class=\"colab-df-container\">\n",
              "    <button class=\"colab-df-convert\" onclick=\"convertToInteractive('df-cd065d52-0c64-4843-916f-b684682e6638')\"\n",
              "            title=\"Convert this dataframe to an interactive table.\"\n",
              "            style=\"display:none;\">\n",
              "\n",
              "  <svg xmlns=\"http://www.w3.org/2000/svg\" height=\"24px\" viewBox=\"0 -960 960 960\">\n",
              "    <path d=\"M120-120v-720h720v720H120Zm60-500h600v-160H180v160Zm220 220h160v-160H400v160Zm0 220h160v-160H400v160ZM180-400h160v-160H180v160Zm440 0h160v-160H620v160ZM180-180h160v-160H180v160Zm440 0h160v-160H620v160Z\"/>\n",
              "  </svg>\n",
              "    </button>\n",
              "\n",
              "  <style>\n",
              "    .colab-df-container {\n",
              "      display:flex;\n",
              "      gap: 12px;\n",
              "    }\n",
              "\n",
              "    .colab-df-convert {\n",
              "      background-color: #E8F0FE;\n",
              "      border: none;\n",
              "      border-radius: 50%;\n",
              "      cursor: pointer;\n",
              "      display: none;\n",
              "      fill: #1967D2;\n",
              "      height: 32px;\n",
              "      padding: 0 0 0 0;\n",
              "      width: 32px;\n",
              "    }\n",
              "\n",
              "    .colab-df-convert:hover {\n",
              "      background-color: #E2EBFA;\n",
              "      box-shadow: 0px 1px 2px rgba(60, 64, 67, 0.3), 0px 1px 3px 1px rgba(60, 64, 67, 0.15);\n",
              "      fill: #174EA6;\n",
              "    }\n",
              "\n",
              "    .colab-df-buttons div {\n",
              "      margin-bottom: 4px;\n",
              "    }\n",
              "\n",
              "    [theme=dark] .colab-df-convert {\n",
              "      background-color: #3B4455;\n",
              "      fill: #D2E3FC;\n",
              "    }\n",
              "\n",
              "    [theme=dark] .colab-df-convert:hover {\n",
              "      background-color: #434B5C;\n",
              "      box-shadow: 0px 1px 3px 1px rgba(0, 0, 0, 0.15);\n",
              "      filter: drop-shadow(0px 1px 2px rgba(0, 0, 0, 0.3));\n",
              "      fill: #FFFFFF;\n",
              "    }\n",
              "  </style>\n",
              "\n",
              "    <script>\n",
              "      const buttonEl =\n",
              "        document.querySelector('#df-cd065d52-0c64-4843-916f-b684682e6638 button.colab-df-convert');\n",
              "      buttonEl.style.display =\n",
              "        google.colab.kernel.accessAllowed ? 'block' : 'none';\n",
              "\n",
              "      async function convertToInteractive(key) {\n",
              "        const element = document.querySelector('#df-cd065d52-0c64-4843-916f-b684682e6638');\n",
              "        const dataTable =\n",
              "          await google.colab.kernel.invokeFunction('convertToInteractive',\n",
              "                                                    [key], {});\n",
              "        if (!dataTable) return;\n",
              "\n",
              "        const docLinkHtml = 'Like what you see? Visit the ' +\n",
              "          '<a target=\"_blank\" href=https://colab.research.google.com/notebooks/data_table.ipynb>data table notebook</a>'\n",
              "          + ' to learn more about interactive tables.';\n",
              "        element.innerHTML = '';\n",
              "        dataTable['output_type'] = 'display_data';\n",
              "        await google.colab.output.renderOutput(dataTable, element);\n",
              "        const docLink = document.createElement('div');\n",
              "        docLink.innerHTML = docLinkHtml;\n",
              "        element.appendChild(docLink);\n",
              "      }\n",
              "    </script>\n",
              "  </div>\n",
              "\n",
              "\n",
              "<div id=\"df-6f6e5457-3d51-4d78-bb3f-2237284d7e69\">\n",
              "  <button class=\"colab-df-quickchart\" onclick=\"quickchart('df-6f6e5457-3d51-4d78-bb3f-2237284d7e69')\"\n",
              "            title=\"Suggest charts\"\n",
              "            style=\"display:none;\">\n",
              "\n",
              "<svg xmlns=\"http://www.w3.org/2000/svg\" height=\"24px\"viewBox=\"0 0 24 24\"\n",
              "     width=\"24px\">\n",
              "    <g>\n",
              "        <path d=\"M19 3H5c-1.1 0-2 .9-2 2v14c0 1.1.9 2 2 2h14c1.1 0 2-.9 2-2V5c0-1.1-.9-2-2-2zM9 17H7v-7h2v7zm4 0h-2V7h2v10zm4 0h-2v-4h2v4z\"/>\n",
              "    </g>\n",
              "</svg>\n",
              "  </button>\n",
              "\n",
              "<style>\n",
              "  .colab-df-quickchart {\n",
              "      --bg-color: #E8F0FE;\n",
              "      --fill-color: #1967D2;\n",
              "      --hover-bg-color: #E2EBFA;\n",
              "      --hover-fill-color: #174EA6;\n",
              "      --disabled-fill-color: #AAA;\n",
              "      --disabled-bg-color: #DDD;\n",
              "  }\n",
              "\n",
              "  [theme=dark] .colab-df-quickchart {\n",
              "      --bg-color: #3B4455;\n",
              "      --fill-color: #D2E3FC;\n",
              "      --hover-bg-color: #434B5C;\n",
              "      --hover-fill-color: #FFFFFF;\n",
              "      --disabled-bg-color: #3B4455;\n",
              "      --disabled-fill-color: #666;\n",
              "  }\n",
              "\n",
              "  .colab-df-quickchart {\n",
              "    background-color: var(--bg-color);\n",
              "    border: none;\n",
              "    border-radius: 50%;\n",
              "    cursor: pointer;\n",
              "    display: none;\n",
              "    fill: var(--fill-color);\n",
              "    height: 32px;\n",
              "    padding: 0;\n",
              "    width: 32px;\n",
              "  }\n",
              "\n",
              "  .colab-df-quickchart:hover {\n",
              "    background-color: var(--hover-bg-color);\n",
              "    box-shadow: 0 1px 2px rgba(60, 64, 67, 0.3), 0 1px 3px 1px rgba(60, 64, 67, 0.15);\n",
              "    fill: var(--button-hover-fill-color);\n",
              "  }\n",
              "\n",
              "  .colab-df-quickchart-complete:disabled,\n",
              "  .colab-df-quickchart-complete:disabled:hover {\n",
              "    background-color: var(--disabled-bg-color);\n",
              "    fill: var(--disabled-fill-color);\n",
              "    box-shadow: none;\n",
              "  }\n",
              "\n",
              "  .colab-df-spinner {\n",
              "    border: 2px solid var(--fill-color);\n",
              "    border-color: transparent;\n",
              "    border-bottom-color: var(--fill-color);\n",
              "    animation:\n",
              "      spin 1s steps(1) infinite;\n",
              "  }\n",
              "\n",
              "  @keyframes spin {\n",
              "    0% {\n",
              "      border-color: transparent;\n",
              "      border-bottom-color: var(--fill-color);\n",
              "      border-left-color: var(--fill-color);\n",
              "    }\n",
              "    20% {\n",
              "      border-color: transparent;\n",
              "      border-left-color: var(--fill-color);\n",
              "      border-top-color: var(--fill-color);\n",
              "    }\n",
              "    30% {\n",
              "      border-color: transparent;\n",
              "      border-left-color: var(--fill-color);\n",
              "      border-top-color: var(--fill-color);\n",
              "      border-right-color: var(--fill-color);\n",
              "    }\n",
              "    40% {\n",
              "      border-color: transparent;\n",
              "      border-right-color: var(--fill-color);\n",
              "      border-top-color: var(--fill-color);\n",
              "    }\n",
              "    60% {\n",
              "      border-color: transparent;\n",
              "      border-right-color: var(--fill-color);\n",
              "    }\n",
              "    80% {\n",
              "      border-color: transparent;\n",
              "      border-right-color: var(--fill-color);\n",
              "      border-bottom-color: var(--fill-color);\n",
              "    }\n",
              "    90% {\n",
              "      border-color: transparent;\n",
              "      border-bottom-color: var(--fill-color);\n",
              "    }\n",
              "  }\n",
              "</style>\n",
              "\n",
              "  <script>\n",
              "    async function quickchart(key) {\n",
              "      const quickchartButtonEl =\n",
              "        document.querySelector('#' + key + ' button');\n",
              "      quickchartButtonEl.disabled = true;  // To prevent multiple clicks.\n",
              "      quickchartButtonEl.classList.add('colab-df-spinner');\n",
              "      try {\n",
              "        const charts = await google.colab.kernel.invokeFunction(\n",
              "            'suggestCharts', [key], {});\n",
              "      } catch (error) {\n",
              "        console.error('Error during call to suggestCharts:', error);\n",
              "      }\n",
              "      quickchartButtonEl.classList.remove('colab-df-spinner');\n",
              "      quickchartButtonEl.classList.add('colab-df-quickchart-complete');\n",
              "    }\n",
              "    (() => {\n",
              "      let quickchartButtonEl =\n",
              "        document.querySelector('#df-6f6e5457-3d51-4d78-bb3f-2237284d7e69 button');\n",
              "      quickchartButtonEl.style.display =\n",
              "        google.colab.kernel.accessAllowed ? 'block' : 'none';\n",
              "    })();\n",
              "  </script>\n",
              "</div>\n",
              "\n",
              "    </div>\n",
              "  </div>\n"
            ]
          },
          "metadata": {},
          "execution_count": 8
        }
      ]
    },
    {
      "cell_type": "markdown",
      "source": [
        "En el boxplot, se observa que los bigotes abarcan los datos desde 26 años hasta los 50 años. La caja de color azul, comienza en el valor 30.75, que corresponde al primer cuartil (Q1), la cruza una linea que representa la mediana o Q2 de valor 35.5, y concluye en el valor 41.25, correspondiente al tercer cuartil (Q3). La posición central de la línea de la mediana, situada en el punto medio de la caja, sugiere que los datos se encuentran concentrados equitativamente en ambos extremos. Por último, no se visualizan datos atípicos que sobrepasen los bigotes del boxplot."
      ],
      "metadata": {
        "id": "YfcRZXqAscM-"
      }
    },
    {
      "cell_type": "markdown",
      "source": [
        "\n",
        "**Histograma:**\n",
        "\n",
        "Este gráfico también nos ayuda a visualizar la distribución de una variable, pero lo hace desde otra perspectiva. Pues, detalla la distribución de frecuencias de nuestros datos, permitiendo visualizar la densidad de observaciones en diferentes rangos.\n",
        "\n",
        "El histograma se compone de 'n' barras, cada una representa la frecuencia o densidad de los datos en intervalos específicos. Estas barras ofrecen una representación visual clara de cómo se agrupan y dispersan los datos en diferentes segmentos, facilitando la identificación de patrones y tendencias en la distribución de la variable analizada.\n",
        "\n"
      ],
      "metadata": {
        "id": "bd6PvN6GfQLc"
      }
    },
    {
      "cell_type": "code",
      "source": [
        "import matplotlib.pyplot as plt\n",
        "\n",
        "# Crear histograma\n",
        "plt.figure(figsize=(5, 3))  # Ajustar el tamaño de la figura\n",
        "plt.hist(df.edades, bins=5, edgecolor='black')\n",
        "plt.title('Histograma de la variable Edad')\n",
        "plt.xlabel('Edades')\n",
        "plt.ylabel('Frecuencia')\n",
        "plt.show()"
      ],
      "metadata": {
        "colab": {
          "base_uri": "https://localhost:8080/",
          "height": 333
        },
        "id": "tfZo4MaJfO-2",
        "outputId": "6f015cdc-5789-4d00-f808-10acdca8fa92"
      },
      "execution_count": 9,
      "outputs": [
        {
          "output_type": "display_data",
          "data": {
            "text/plain": [
              "<Figure size 500x300 with 1 Axes>"
            ],
            "image/png": "[encoded data removed]"
          },
          "metadata": {}
        }
      ]
    },
    {
      "cell_type": "markdown",
      "source": [
        "En este histograma, realizamos 5 barras para agrupar los 30 datos. Podemos visualizar que los datos de las edades de los empleados están mayormente concentrados en las primeras dos barras, pues son las que tienen mayor frecuencia. Es decir, los empleados de la empresa A son mayoritariamente personas jóvenes."
      ],
      "metadata": {
        "id": "1kFzlnh9wKtG"
      }
    },
    {
      "cell_type": "markdown",
      "source": [
        "**Diagrama de Dispersión (Scatter-plot):**\n",
        "\n",
        "Este gráfico muestra la relación entre dos variables, proporcionándonos información sobre el grado de correlación entre ellas. Nos permite identificar patrones o tendencias en los datos. Además, en caso de existir una relación, nos permite analizar la naturaleza de la tendencia que siguen.\n",
        "\n",
        "El diagrama de dispersión representa cada observación como un punto ubicado en un plano de coordenadas bidimensional, donde cada eje representa una variable. Este enfoque visual provee una representación efectiva de la distribución conjunta de las variables analizadas.\n",
        "\n",
        "\n",
        "<br>\n",
        "<br>\n",
        "Visualizaremos la relación entre las variables edades y altura, que como ya vimos, tienen una alta correlación, por lo que esperamos visualizar una relación directa entre ambas variables.\n"
      ],
      "metadata": {
        "id": "4FvwQ-EvfWAb"
      }
    },
    {
      "cell_type": "code",
      "source": [
        "import matplotlib.pyplot as plt\n",
        "\n",
        "# Crear diagrama de dispersión\n",
        "plt.figure(figsize=(7, 4))  # Ajustar el tamaño de la figura\n",
        "plt.scatter(df.edades, df.altura)\n",
        "plt.title('Diagrama de Dispersión')\n",
        "plt.xlabel('Variable Edades')\n",
        "plt.ylabel('Variable Altura')\n",
        "plt.show()"
      ],
      "metadata": {
        "colab": {
          "base_uri": "https://localhost:8080/",
          "height": 411
        },
        "id": "38-MwrV9fWcm",
        "outputId": "b4791996-9ba6-459a-aceb-dda9cf52bd7e"
      },
      "execution_count": 10,
      "outputs": [
        {
          "output_type": "display_data",
          "data": {
            "text/plain": [
              "<Figure size 700x400 with 1 Axes>"
            ],
            "image/png": "[encoded data removed]"
          },
          "metadata": {}
        }
      ]
    },
    {
      "cell_type": "markdown",
      "source": [
        "En el gráfico de dispersión, podemos observar claramente la relación entre las variables, las cuales, como sabemos, tienen una correlación de 0.72.\n",
        "\n",
        "Se aprecia una clara tendencia al alza entre las variables, ya que los datos no muestran una dispersión significativa. Esto sugiere que cuando una variable aumenta, la otra también tiende a hacerlo. Sin embargo, es importante destacar que la correlación no implica causalidad.\n",
        "\n",
        "Además, se observa la presencia de algunos casos que podrían considerarse como valores atípicos (outliers), pero al existir varios de ellos, se interpretan más adecuadamente como datos dispersos."
      ],
      "metadata": {
        "id": "QFC3sB2oh5rt"
      }
    }
  ]
}